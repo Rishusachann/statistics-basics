{
  "nbformat": 4,
  "nbformat_minor": 0,
  "metadata": {
    "colab": {
      "provenance": []
    },
    "kernelspec": {
      "name": "python3",
      "display_name": "Python 3"
    },
    "language_info": {
      "name": "python"
    }
  },
  "cells": [
    {
      "cell_type": "markdown",
      "source": [
        "**THEORY QUESTIONS **\n",
        "\n",
        "\n",
        "\n",
        "\n",
        "1. What is statistics, and why is it important?\n",
        "\n",
        "   Answer:\n",
        "   Statistics is the study of collecting, organizing, analyzing, and interpreting data. It helps in understanding large sets of information by simplifying and summarizing it. Statistics is important because it helps in making decisions based on data, identifying patterns, predicting future outcomes, and solving real-world problems in areas like business, healthcare, education, and research.\n",
        "\n",
        "\n",
        "---\n",
        "\n",
        "2. What are the two main types of statistics?\n",
        "\n",
        "   Answer:\n",
        "   The two main types of statistics are descriptive statistics and inferential statistics.\n",
        "   Descriptive statistics are used to summarize and describe the main features of a dataset, using measures like mean, median, mode, and visual tools like charts.\n",
        "   Inferential statistics help in making predictions or generalizations about a larger population based on a sample, using techniques like hypothesis testing and estimation.\n",
        "\n",
        "\n",
        "---\n",
        "\n",
        "3. What are descriptive statistics?\n",
        "\n",
        "   Answer:\n",
        "   Descriptive statistics are methods used to summarize and describe the characteristics of a dataset. It includes numerical measures such as mean (average), median (middle value), mode (most frequent value), and range (difference between maximum and minimum). Graphical methods like bar charts, histograms, and pie charts are also used. These statistics help in simplifying complex data into understandable information.\n",
        "\n",
        "\n",
        "---\n",
        "\n",
        "4. What is inferential statistics?\n",
        "\n",
        "   Answer:\n",
        "   Inferential statistics involve drawing conclusions or making predictions about a population based on a sample of data. It uses probability theory to estimate and test hypotheses. Techniques such as confidence intervals, t-tests, and regression analysis are part of inferential statistics. It is useful when it is not possible or practical to collect data from the entire population.\n",
        "\n",
        "\n",
        "---\n",
        "\n",
        "5. What is sampling in statistics?\n",
        "\n",
        "   Answer:\n",
        "   Sampling is the process of selecting a small group (called a sample) from a larger group (called a population) to study. It is done when studying the whole population is too difficult or time-consuming. Sampling helps in collecting data efficiently while still drawing conclusions about the entire population. A well-chosen sample represents the population accurately.\n",
        "\n",
        "\n",
        "---\n",
        "\n",
        "6. What are the different types of sampling methods?\n",
        "\n",
        "   Answer:\n",
        "   Sampling methods are mainly divided into two categories: probability sampling and non-probability sampling\n",
        "   in probability sampling every indivisual has a known chance of being selected\n",
        "   In non probability sampling not everyone has chance to selection\n",
        "\n",
        "\n",
        "\n",
        "---\n",
        "\n",
        "7. What is the difference between random and non-random sampling?\n",
        "\n",
        "   Answer:\n",
        "   Random sampling is a method where every individual in the population has an equal chance of being selected. This reduces bias and increases the chances that the sample represents the population.\n",
        "   Non-random sampling, on the other hand, does not give every individual an equal chance. It is based on convenience, judgment, or specific criteria, which may lead to biased results.\n",
        "   For example, choosing names from a hat is random sampling, while selecting students from only one class is non-random sampling.\n",
        "\n",
        "\n",
        "---\n",
        "\n",
        "8. Define and give examples of qualitative and quantitative data.\n",
        "\n",
        "   Answer:\n",
        "   Qualitative data is non-numerical and describes qualities or categories. Examples include colors, names, gender, or types of food.\n",
        "   Quantitative data is numerical and represents quantities or amounts. Examples include height, weight, age, or number of students.\n",
        "   In short, qualitative = descriptive, and quantitative = measurable.\n",
        "\n",
        "\n",
        "---\n",
        "\n",
        "9. What are the different types of data in statistics?\n",
        "\n",
        "   Answer:\n",
        "   The main types of data in statistics are:\n",
        "\n",
        "   1. Nominal data – Categorical data with no order (e.g., blood type, gender)\n",
        "\n",
        "\n",
        "   2. Ordinal data – Categorical data with a meaningful order (e.g., ranks, satisfaction levels)\n",
        "\n",
        "\n",
        "   3. Interval data – Numerical data with equal spacing but no true zero (e.g., temperature in Celsius)\n",
        "\n",
        "\n",
        "   4. Ratio data – Numerical data with a true zero point (e.g., weight, height, age)\n",
        "   These types help in selecting the correct statistical tools for analysis.\n",
        "\n",
        "\n",
        "\n",
        "\n",
        "---\n",
        "\n",
        "10. Explain nominal, ordinal, interval, and ratio levels of measurement.\n",
        "\n",
        "   Answer:\n",
        "   Nominal level is used for labeling variables without any order (e.g., colors: red, blue, green).\n",
        "   Ordinal level arranges data in a specific order but the difference between values is not defined (e.g., first, second, third).\n",
        "   Interval level has ordered values with known differences but no true zero (e.g., temperature in Celsius).\n",
        "   Ratio level includes all features of interval data, and also has a true zero, allowing for comparison (e.g., 20 kg is twice as heavy as 10 kg).\n",
        "   Understanding these levels helps in choosing appropriate statistical techniques.\n",
        "\n",
        "\n",
        "---\n",
        "\n",
        "11. What is the measure of central tendency?\n",
        "\n",
        "   Answer:\n",
        "   The measure of central tendency is a statistical measure that identifies the center or typical value within a dataset.\n",
        "   The three main types are mean (average), median (middle value), and mode (most frequent value).\n",
        "   These measures give an idea of the general trend or “typical” value in the data, and are useful in comparing different datasets.\n",
        "\n",
        "\n",
        "---\n",
        "\n",
        "12. Define mean, median, and mode.\n",
        "\n",
        "   Answer:\n",
        "   Mean is the average of all values in a dataset, calculated by adding all values and dividing by the number of values.\n",
        "   Median is the middle value when data is arranged in order. If there’s an even number of values, it is the average of the two middle numbers.\n",
        "   Mode is the value that appears most frequently in the dataset.\n",
        "   Each measure helps in understanding different aspects of the data’s central value\n",
        "\n",
        "\n",
        "---\n",
        "\n",
        "13. What is the significance of the measure of central tendency?\n",
        "\n",
        "   Answer:\n",
        "   The measure of central tendency is significant because it helps summarize a large dataset with a single representative value. It shows where most values in a dataset lie and helps in comparing different datasets. For example, the average marks of students in a class can indicate the overall class performance. It also helps in identifying patterns, making business decisions, and simplifying complex data.\n",
        "\n",
        "\n",
        "---\n",
        "\n",
        "14. What is variance, and how is it calculated?\n",
        "\n",
        "   Answer:\n",
        "   Variance is a measure of how much the values in a dataset differ from the mean. It shows the spread or dispersion of data points.\n",
        "   To calculate variance:\n",
        "\n",
        "   1. Find the mean of the data\n",
        "\n",
        "\n",
        "   2. Subtract the mean from each data value and square the result\n",
        "\n",
        "\n",
        "   3. Add all the squared values\n",
        "\n",
        "\n",
        "   4. Divide by the number of values (for population) or by (n-1) for a sample\n",
        "   A higher variance means data points are more spread out from the mean.\n",
        "\n",
        "\n",
        "\n",
        "\n",
        "---\n",
        "\n",
        "15. What is standard deviation, and why is it important?\n",
        "\n",
        "   Answer:\n",
        "   Standard deviation is the square root of variance. It measures the average distance of each data point from the mean.\n",
        "   It is important because it gives a clear idea of the consistency or variability of data. A low standard deviation means data is closely clustered around the mean, while a high standard deviation means data is spread out. It is commonly used in finance, science, and quality control.\n",
        "\n",
        "\n",
        "---\n",
        "\n",
        "16. Define and explain the term range in statistics.\n",
        "\n",
        "   Answer:\n",
        "   Range is the difference between the highest and lowest values in a dataset.\n",
        "   Formula: Range = Maximum value – Minimum value\n",
        "   It is a simple measure of spread and tells how widely the data varies. For example, if the highest temperature in a week is 40°C and the lowest is 25°C, the range is 15°C.\n",
        "   While easy to calculate, it can be affected by outliers.\n",
        "\n",
        "\n",
        "---\n",
        "\n",
        "17. What is the difference between variance and standard deviation?\n",
        "\n",
        "   Answer:\n",
        "   Variance and standard deviation both measure the spread of data around the mean.\n",
        "   Variance is the average of the squared differences from the mean, while standard deviation is the square root of variance.\n",
        "   Standard deviation is easier to interpret because it is in the same unit as the original data, while variance is in squared units.\n",
        "   In short:\n",
        "\n",
        "   Variance = squared spread\n",
        "\n",
        "   Standard deviation = actual spread\n",
        "\n",
        "\n",
        "\n",
        "---\n",
        "\n",
        "18. What is skewness in a dataset?\n",
        "\n",
        "   Answer:\n",
        "   Skewness refers to the asymmetry in the distribution of data.\n",
        "\n",
        "   If data is symmetric, it has zero skewness\n",
        "\n",
        "   If data has a long tail on the right side, it is positively skewed\n",
        "\n",
        "   If data has a long tail on the left side, it is negatively skewed\n",
        "   Skewness helps in understanding the shape of the data distribution and choosing the correct statistical method for analysis.\n",
        "\n",
        "\n",
        "\n",
        "---\n",
        "\n",
        "19. What does it mean if a dataset is positively or negatively skewed?\n",
        "\n",
        "   Answer:\n",
        "   If a dataset is positively skewed, it means the tail on the right side of the distribution is longer or fatter. Most data values are concentrated on the left, and the mean is greater than the median.\n",
        "   If a dataset is negatively skewed, the tail is on the left side, with most values on the right. In this case, the mean is less than the median.\n",
        "   Skewness affects how we interpret the data and choose measures of central tendency.\n",
        "\n",
        "\n",
        "---\n",
        "\n",
        "20. Define and explain kurtosis.\n",
        "\n",
        "   Answer:\n",
        "   Kurtosis measures the \"tailedness\" of a data distribution — how heavy or light the tails are compared to a normal distribution.\n",
        "\n",
        "   High kurtosis (leptokurtic): Heavy tails, more extreme values\n",
        "\n",
        "   Low kurtosis (platykurtic): Light tails, fewer extreme values\n",
        "\n",
        "   Normal kurtosis (mesokurtic): Similar to normal bell curve\n",
        "   It helps in identifying outliers and understanding the shape of data distribution, which is important in risk analysis and quality control.\n",
        "\n",
        "\n",
        "\n",
        "---\n",
        "\n",
        "21. What is the purpose of covariance?\n",
        "\n",
        "   Answer:\n",
        "   Covariance is a measure that shows how two variables change together.\n",
        "\n",
        "   If both variables increase or decrease together, covariance is positive\n",
        "\n",
        "   If one increases while the other decreases, covariance is negative\n",
        "   It helps in understanding the relationship between two variables. For example, it’s used in portfolio management to study how different stocks move in relation to each other.\n",
        "\n",
        "\n",
        "\n",
        "---\n",
        "\n",
        "22. What does correlation measure in statistics?\n",
        "\n",
        "   Answer:\n",
        "   Correlation measures the strength and direction of the linear relationship between two variables.\n",
        "   It ranges from -1 to +1:\n",
        "\n",
        "   +1 means perfect positive correlation\n",
        "\n",
        "   -1 means perfect negative correlation\n",
        "\n",
        "   0 means no correlation\n",
        "   Unlike covariance, correlation is standardized and easier to interpret. It is widely used in data analysis, economics, psychology, and scientific research.\n",
        "\n",
        "\n",
        "\n",
        "---\n",
        "\n",
        "23. What is the difference between covariance and correlation?\n",
        "\n",
        "   Answer:\n",
        "   Covariance shows the direction of the relationship between two variables, but its value depends on the scale of the data.\n",
        "   Correlation not only shows the direction but also the strength of the relationship, and it is always between -1 and +1.\n",
        "   In short:\n",
        "\n",
        "   Covariance = unstandardized relationship\n",
        "\n",
        "   Correlation = standardized relationship\n",
        "   Correlation is more commonly used because it gives a clear idea of how closely two variables are related.\n",
        "\n",
        "\n",
        "\n",
        "---\n",
        "\n",
        "24. What are some real-world applications of statistics?\n",
        "\n",
        "   Answer:\n",
        "   Statistics is used in almost every field. Some key applications include:\n",
        "\n",
        "   Business: Market research, quality control, and sales forecasting\n",
        "\n",
        "   Healthcare: Drug testing, patient data analysis, and disease tracking\n",
        "\n",
        "   Education: Analyzing student performance and survey results\n",
        "\n",
        "   Government: Census data, crime rates, and policy-making\n",
        "\n",
        "   Sports: Player performance analysis and match predictions\n",
        "   Statistics helps in making informed decisions based on data.\n",
        "\n",
        "\n",
        "\n",
        "---\n"
      ],
      "metadata": {
        "id": "zUIhdwo9V8TK"
      }
    },
    {
      "cell_type": "markdown",
      "source": [
        "**PRACTICAL QUESTION **\n",
        "\n"
      ],
      "metadata": {
        "id": "PcIfOdcjt2Fg"
      }
    },
    {
      "cell_type": "code",
      "source": [
        "# 1. How do you calculate the mean, median, and mode of a dataset?\n",
        "import statistics\n",
        "\n",
        "data = [2, 4, 4, 6, 8, 10, 10]\n",
        "\n",
        "mean = statistics.mean(data)\n",
        "median = statistics.median(data)\n",
        "mode = statistics.mode(data)\n",
        "\n",
        "print(\"Mean:\", mean)\n",
        "print(\"Median:\", median)\n",
        "print(\"Mode:\",mode)"
      ],
      "metadata": {
        "colab": {
          "base_uri": "https://localhost:8080/"
        },
        "id": "spU_B7Rpt8GW",
        "outputId": "da3f3e30-764b-40c5-ef1b-e7b5ee791544"
      },
      "execution_count": 2,
      "outputs": [
        {
          "output_type": "stream",
          "name": "stdout",
          "text": [
            "Mean: 6.285714285714286\n",
            "Median: 6\n",
            "Mode: 4\n"
          ]
        }
      ]
    },
    {
      "cell_type": "code",
      "source": [
        "# 2. Write a Python program to compute the variance and standard deviation of a dataset.\n",
        "import statistics\n",
        "\n",
        "data = [2, 4, 4, 6, 8, 10, 10]\n",
        "\n",
        "variance = statistics.variance(data)\n",
        "std_dev = statistics.stdev(data)\n",
        "\n",
        "print(\"Variance:\", variance)\n",
        "print(\"Standard Deviation:\",std_dev)"
      ],
      "metadata": {
        "colab": {
          "base_uri": "https://localhost:8080/"
        },
        "id": "NyUvtRbNuiqT",
        "outputId": "7a2850ce-83ea-4cfe-d3cd-9082be260a9b"
      },
      "execution_count": 4,
      "outputs": [
        {
          "output_type": "stream",
          "name": "stdout",
          "text": [
            "Variance: 9.904761904761905\n",
            "Standard Deviation: 3.147183169877773\n"
          ]
        }
      ]
    },
    {
      "cell_type": "code",
      "source": [
        "# 3. Create a dataset and classify it into nominal, ordinal, interval, and ratio types.\n",
        "\n",
        "nominal = ['Red', 'Blue', 'Green']\n",
        "ordinal = ['Low', 'Medium', 'High']\n",
        "interval = [2000, 2010, 2020]\n",
        "ratio = [5, 10, 15, 20]\n",
        "\n",
        "print(\"Nominal Data:\", nominal)\n",
        "print(\"Ordinal Data:\", ordinal)\n",
        "print(\"Interval Data:\", interval)\n",
        "print(\"Ratio Data:\",ratio)"
      ],
      "metadata": {
        "colab": {
          "base_uri": "https://localhost:8080/"
        },
        "id": "SDBQSM4_uuFD",
        "outputId": "f8af88d0-1c61-4833-c548-0f84cef2bf2e"
      },
      "execution_count": 5,
      "outputs": [
        {
          "output_type": "stream",
          "name": "stdout",
          "text": [
            "Nominal Data: ['Red', 'Blue', 'Green']\n",
            "Ordinal Data: ['Low', 'Medium', 'High']\n",
            "Interval Data: [2000, 2010, 2020]\n",
            "Ratio Data: [5, 10, 15, 20]\n"
          ]
        }
      ]
    },
    {
      "cell_type": "code",
      "source": [
        "# 4. Implement sampling techniques like random sampling and stratified sampling.\n",
        "import pandas as pd\n",
        "import numpy as np\n",
        "from sklearn.model_selection import train_test_split\n",
        "\n",
        "data = pd.DataFrame({\n",
        "    'ID': range(1, 21),\n",
        "    'Group': ['A']*10 + ['B']*10\n",
        "})\n",
        "\n",
        "# Random Sampling\n",
        "random_sample = data.sample(n=5)\n",
        "\n",
        "# Stratified Sampling (using Group)\n",
        "stratified_sample, _ = train_test_split(data, test_size=0.75, stratify=data['Group'])\n",
        "\n",
        "print(\"Random Sample:\\n\", random_sample)\n",
        "print(\"Stratified Sample:\\n\", stratified_sample)"
      ],
      "metadata": {
        "colab": {
          "base_uri": "https://localhost:8080/"
        },
        "id": "OsUvtXZlu6OF",
        "outputId": "443931c4-b3d4-44bf-b613-3daa485c5382"
      },
      "execution_count": 6,
      "outputs": [
        {
          "output_type": "stream",
          "name": "stdout",
          "text": [
            "Random Sample:\n",
            "     ID Group\n",
            "12  13     B\n",
            "7    8     A\n",
            "13  14     B\n",
            "1    2     A\n",
            "19  20     B\n",
            "Stratified Sample:\n",
            "     ID Group\n",
            "14  15     B\n",
            "7    8     A\n",
            "2    3     A\n",
            "16  17     B\n",
            "10  11     B\n"
          ]
        }
      ]
    },
    {
      "cell_type": "code",
      "source": [
        "# 5. Write a Python function to calculate the range of a dataset.\n",
        "def calculate_range(data):\n",
        "    return max(data) - min(data)\n",
        "\n",
        "data = [4, 6, 2, 8, 10]\n",
        "print(\"Range:\", calculate_range(data))"
      ],
      "metadata": {
        "colab": {
          "base_uri": "https://localhost:8080/"
        },
        "id": "3h93rbvQvGGO",
        "outputId": "afcd2eed-8059-4dbe-c5dd-f57162029e9b"
      },
      "execution_count": 7,
      "outputs": [
        {
          "output_type": "stream",
          "name": "stdout",
          "text": [
            "Range: 8\n"
          ]
        }
      ]
    },
    {
      "cell_type": "code",
      "source": [
        "# 6. Create a dataset and plot its histogram to visualize skewness.\n",
        "import matplotlib.pyplot as plt\n",
        "\n",
        "data = [1, 2, 2, 3, 4, 6, 9, 13, 18, 25]\n",
        "\n",
        "plt.hist(data, bins=6, edgecolor='black')\n",
        "plt.title('Histogram to Visualize Skewness')\n",
        "plt.xlabel('Values')\n",
        "plt.ylabel('Frequency')\n",
        "plt.show()"
      ],
      "metadata": {
        "colab": {
          "base_uri": "https://localhost:8080/",
          "height": 472
        },
        "id": "ziyvaN54vJkQ",
        "outputId": "4399f0a9-4a73-4198-a0c4-bf76154a1202"
      },
      "execution_count": 8,
      "outputs": [
        {
          "output_type": "display_data",
          "data": {
            "text/plain": [
              "<Figure size 640x480 with 1 Axes>"
            ],
            "image/png": "[encoded data removed]"
          },
          "metadata": {}
        }
      ]
    },
    {
      "cell_type": "code",
      "source": [
        "# 7. Calculate skewness and kurtosis of a dataset using Python libraries.\n",
        "from scipy.stats import skew, kurtosis\n",
        "\n",
        "data = [1, 2, 2, 3, 4, 6, 9, 13, 18, 25]\n",
        "\n",
        "skewness = skew(data)\n",
        "kurt = kurtosis(data)\n",
        "\n",
        "print(\"Skewness:\", skewness)\n",
        "print(\"Kurtosis:\",kurt)"
      ],
      "metadata": {
        "colab": {
          "base_uri": "https://localhost:8080/"
        },
        "id": "LRlntlsBvOCW",
        "outputId": "e787a688-0d2b-42ac-da53-ffbc655388ba"
      },
      "execution_count": 10,
      "outputs": [
        {
          "output_type": "stream",
          "name": "stdout",
          "text": [
            "Skewness: 1.0285968463007666\n",
            "Kurtosis: -0.1986445161999879\n"
          ]
        }
      ]
    },
    {
      "cell_type": "code",
      "source": [
        "# 8. Generate a dataset and demonstrate positive and negative skewness.\n",
        "import matplotlib.pyplot as plt\n",
        "\n",
        "# Positive Skew (Right)\n",
        "data_pos = [1, 2, 2, 3, 4, 6, 10, 20, 30]\n",
        "\n",
        "# Negative Skew (Left)\n",
        "data_neg = [30, 28, 25, 24, 20, 18, 17, 17, 16]\n",
        "\n",
        "plt.figure(figsize=(10, 4))\n",
        "\n",
        "plt.subplot(1, 2, 1)\n",
        "plt.hist(data_pos, bins=6, edgecolor='black')\n",
        "plt.title('Positive Skew')\n",
        "\n",
        "plt.subplot(1, 2, 2)\n",
        "plt.hist(data_neg, bins=6, edgecolor='black')\n",
        "plt.title('Negative Skew')\n",
        "\n",
        "plt.tight_layout()\n",
        "plt.show()"
      ],
      "metadata": {
        "colab": {
          "base_uri": "https://localhost:8080/",
          "height": 407
        },
        "id": "3DvQcxmvvnB-",
        "outputId": "0946b45b-0256-40a5-faaa-e10c6877a79e"
      },
      "execution_count": 11,
      "outputs": [
        {
          "output_type": "display_data",
          "data": {
            "text/plain": [
              "<Figure size 1000x400 with 2 Axes>"
            ],
            "image/png": "[encoded data removed]"
          },
          "metadata": {}
        }
      ]
    },
    {
      "cell_type": "code",
      "source": [
        "# 9. Write a Python script to calculate covariance between two datasets.\n",
        "import numpy as np\n",
        "\n",
        "x = [2, 4, 6, 8]\n",
        "y = [1, 3, 2, 5]\n",
        "\n",
        "cov_matrix = np.cov(x, y, bias=False)\n",
        "cov_xy = cov_matrix[0][1]\n",
        "\n",
        "print(\"Covariance between x and y:\",cov_xy)"
      ],
      "metadata": {
        "colab": {
          "base_uri": "https://localhost:8080/"
        },
        "id": "8X6WuHnCvsKa",
        "outputId": "30bb3633-2a3e-4f87-e8f3-0ef0bb92fe11"
      },
      "execution_count": 13,
      "outputs": [
        {
          "output_type": "stream",
          "name": "stdout",
          "text": [
            "Covariance between x and y: 3.6666666666666665\n"
          ]
        }
      ]
    },
    {
      "cell_type": "code",
      "source": [
        "# 10. Write a Python script to calculate the correlation coefficient between two datasets.\n",
        "import numpy as np\n",
        "\n",
        "x = [2, 4, 6, 8]\n",
        "y = [1, 3, 2, 5]\n",
        "\n",
        "corr_matrix = np.corrcoef(x, y)\n",
        "corr_xy = corr_matrix[0][1]\n",
        "\n",
        "print(\"Correlation Coefficient between x and y:\",corr_xy)"
      ],
      "metadata": {
        "colab": {
          "base_uri": "https://localhost:8080/"
        },
        "id": "GExJYzVCvuZ7",
        "outputId": "9e8d33bc-ef5e-4aac-8f72-f05cfed71647"
      },
      "execution_count": 15,
      "outputs": [
        {
          "output_type": "stream",
          "name": "stdout",
          "text": [
            "Correlation Coefficient between x and y: 0.8315218406202999\n"
          ]
        }
      ]
    },
    {
      "cell_type": "code",
      "source": [
        "# 11. Create a scatter plot to visualize the relationship between two variables.\n",
        "import matplotlib.pyplot as plt\n",
        "\n",
        "x = [2, 4, 6, 8, 10]\n",
        "y = [1, 3, 5, 7, 9]\n",
        "\n",
        "plt.scatter(x, y, color='blue')\n",
        "plt.title('Scatter Plot')\n",
        "plt.xlabel('X values')\n",
        "plt.ylabel('Y values')\n",
        "plt.grid(True)\n",
        "plt.show()"
      ],
      "metadata": {
        "colab": {
          "base_uri": "https://localhost:8080/",
          "height": 472
        },
        "id": "qOEyZNjQvyKG",
        "outputId": "3d1eb989-5ec4-4dbb-b6b0-0c344602b672"
      },
      "execution_count": 16,
      "outputs": [
        {
          "output_type": "display_data",
          "data": {
            "text/plain": [
              "<Figure size 640x480 with 1 Axes>"
            ],
            "image/png": "[encoded data removed]"
          },
          "metadata": {}
        }
      ]
    },
    {
      "cell_type": "code",
      "source": [
        "# 12. Implement and compare simple random sampling and systematic sampling.\n",
        "import pandas as pd\n",
        "import numpy as np\n",
        "\n",
        "data = pd.DataFrame({'ID': range(1, 21)})\n",
        "\n",
        "# Simple Random Sampling\n",
        "random_sample = data.sample(n=5)\n",
        "\n",
        "# Systematic Sampling\n",
        "k = len(data) // 5\n",
        "systematic_sample = data.iloc[::k][:5]\n",
        "\n",
        "print(\"Simple Random Sample:\\n\", random_sample)\n",
        "print(\"Systematic Sample:\\n\", systematic_sample)"
      ],
      "metadata": {
        "colab": {
          "base_uri": "https://localhost:8080/"
        },
        "id": "xq7zSz1kv1-V",
        "outputId": "c4737c84-65cc-49c0-99ad-b81d01e126d3"
      },
      "execution_count": 17,
      "outputs": [
        {
          "output_type": "stream",
          "name": "stdout",
          "text": [
            "Simple Random Sample:\n",
            "     ID\n",
            "3    4\n",
            "1    2\n",
            "19  20\n",
            "6    7\n",
            "4    5\n",
            "Systematic Sample:\n",
            "     ID\n",
            "0    1\n",
            "4    5\n",
            "8    9\n",
            "12  13\n",
            "16  17\n"
          ]
        }
      ]
    },
    {
      "cell_type": "code",
      "source": [
        "# 13. Calculate the mean, median, and mode of grouped data.\n",
        "import pandas as pd\n",
        "from scipy import stats\n",
        "\n",
        "# Frequency distribution table\n",
        "data = {\n",
        "    'Class': ['0-10', '10-20', '20-30'],\n",
        "    'Midpoint': [5, 15, 25],\n",
        "    'Frequency': [3, 5, 2]\n",
        "}\n",
        "df = pd.DataFrame(data)\n",
        "\n",
        "# Mean\n",
        "mean = sum(df['Midpoint'] * df['Frequency']) / sum(df['Frequency'])\n",
        "\n",
        "# Median approximation\n",
        "cf = df['Frequency'].cumsum()\n",
        "n = sum(df['Frequency'])\n",
        "median_class_index = cf[cf >= n/2].index[0]\n",
        "l = int(df.loc[median_class_index, 'Class'].split('-')[0])\n",
        "f = df.loc[median_class_index, 'Frequency']\n",
        "cf_prev = cf[median_class_index - 1] if median_class_index > 0 else 0\n",
        "h = 10\n",
        "\n",
        "median = l + ((n/2 - cf_prev) / f) * h\n",
        "\n",
        "# Mode approximation\n",
        "mode_index = df['Frequency'].idxmax()\n",
        "l = int(df.loc[mode_index, 'Class'].split('-')[0])\n",
        "f1 = df.loc[mode_index, 'Frequency']\n",
        "f0 = df.loc[mode_index - 1, 'Frequency'] if mode_index > 0 else 0\n",
        "f2 = df.loc[mode_index + 1, 'Frequency'] if mode_index < len(df) - 1 else 0\n",
        "\n",
        "mode = l + ((f1 - f0) / ((f1 - f0) + (f1 - f2))) * h\n",
        "\n",
        "print(\"Grouped Mean:\", mean)\n",
        "print(\"Grouped Median:\", median)\n",
        "print(\"Grouped Mode:\",mode)"
      ],
      "metadata": {
        "colab": {
          "base_uri": "https://localhost:8080/"
        },
        "id": "aM9GANq6v4RK",
        "outputId": "01cc4fbc-5cd7-4492-c67e-52be3fb109b2"
      },
      "execution_count": 19,
      "outputs": [
        {
          "output_type": "stream",
          "name": "stdout",
          "text": [
            "Grouped Mean: 14.0\n",
            "Grouped Median: 14.0\n",
            "Grouped Mode: 14.0\n"
          ]
        }
      ]
    },
    {
      "cell_type": "code",
      "source": [
        "# 14. Simulate data using Python and calculate its central tendency and dispersion.\n",
        "import numpy as np\n",
        "import statistics\n",
        "\n",
        "# Generate random data\n",
        "data = np.random.normal(loc=50, scale=10, size=100)  # mean=50, std=10\n",
        "\n",
        "mean = statistics.mean(data)\n",
        "median = statistics.median(data)\n",
        "mode = statistics.mode(data)\n",
        "variance = statistics.variance(data)\n",
        "std_dev = statistics.stdev(data)\n",
        "\n",
        "print(\"Mean:\", mean)\n",
        "print(\"Median:\", median)\n",
        "print(\"Mode:\", mode)\n",
        "print(\"Variance:\", variance)\n",
        "print(\"Standard Deviation:\",std_dev)"
      ],
      "metadata": {
        "colab": {
          "base_uri": "https://localhost:8080/"
        },
        "id": "niZYQMWUv9Ro",
        "outputId": "7d260319-45c8-4e57-b60a-ec1db9ebdf0f"
      },
      "execution_count": 20,
      "outputs": [
        {
          "output_type": "stream",
          "name": "stdout",
          "text": [
            "Mean: 50.700443449804624\n",
            "Median: 49.96508948706447\n",
            "Mode: 65.14193149135369\n",
            "Variance: 104.92552027740615\n",
            "Standard Deviation: 10.243315882926103\n"
          ]
        }
      ]
    },
    {
      "cell_type": "code",
      "source": [
        "# 15. Use NumPy or pandas to summarize a dataset’s descriptive statistics.\n",
        "import pandas as pd\n",
        "import numpy as np\n",
        "\n",
        "data = pd.DataFrame({'Marks': np.random.randint(40, 100, 20)})\n",
        "\n",
        "summary = data.describe()\n",
        "print(summary)"
      ],
      "metadata": {
        "colab": {
          "base_uri": "https://localhost:8080/"
        },
        "id": "wNa1jtTKwKpP",
        "outputId": "f979442e-52fc-404f-8443-32fb73ea5847"
      },
      "execution_count": 21,
      "outputs": [
        {
          "output_type": "stream",
          "name": "stdout",
          "text": [
            "           Marks\n",
            "count  20.000000\n",
            "mean   67.600000\n",
            "std    19.682747\n",
            "min    40.000000\n",
            "25%    50.500000\n",
            "50%    67.500000\n",
            "75%    87.000000\n",
            "max    95.000000\n"
          ]
        }
      ]
    },
    {
      "cell_type": "code",
      "source": [
        "# 16. Plot a boxplot to understand the spread and identify outliers.\n",
        "import matplotlib.pyplot as plt\n",
        "import numpy as np\n",
        "\n",
        "data = np.random.randint(30, 100, 50)\n",
        "plt.boxplot(data)\n",
        "plt.title('Boxplot to Identify Outliers')\n",
        "plt.ylabel('Values')\n",
        "plt.show()"
      ],
      "metadata": {
        "colab": {
          "base_uri": "https://localhost:8080/",
          "height": 452
        },
        "id": "l8lbopJaw3Lz",
        "outputId": "236aca67-1007-44a6-c7eb-4b32c89ae109"
      },
      "execution_count": 22,
      "outputs": [
        {
          "output_type": "display_data",
          "data": {
            "text/plain": [
              "<Figure size 640x480 with 1 Axes>"
            ],
            "image/png": "[encoded data removed]"
          },
          "metadata": {}
        }
      ]
    },
    {
      "cell_type": "code",
      "source": [
        "# 17. Calculate the interquartile range (IQR) of a dataset.\n",
        "import numpy as np\n",
        "\n",
        "data = np.random.randint(10, 50, 20)\n",
        "q1 = np.percentile(data, 25)\n",
        "q3 = np.percentile(data, 75)\n",
        "iqr = q3 - q1\n",
        "\n",
        "print(\"Q1:\", q1)\n",
        "print(\"Q3:\", q3)\n",
        "print(\"IQR:\",iqr)"
      ],
      "metadata": {
        "colab": {
          "base_uri": "https://localhost:8080/"
        },
        "id": "bHgGlrqxw5bQ",
        "outputId": "442a79d9-c617-4cbe-aa25-69aa4df8eff4"
      },
      "execution_count": 23,
      "outputs": [
        {
          "output_type": "stream",
          "name": "stdout",
          "text": [
            "Q1: 22.5\n",
            "Q3: 40.25\n",
            "IQR: 17.75\n"
          ]
        }
      ]
    },
    {
      "cell_type": "code",
      "source": [
        "# 18. Implement Z-score normalization and explain its significance.\n",
        "# Z-score normalization transforms data to have mean 0 and std deviation 1.\n",
        "# It's useful for comparing features with different scales.\n",
        "\n",
        "import numpy as np\n",
        "\n",
        "data = [10, 20, 30, 40, 50]\n",
        "mean = np.mean(data)\n",
        "std = np.std(data)\n",
        "z_scores = [(x - mean) / std for x in data]\n",
        "\n",
        "print(\"Original Data:\", data)\n",
        "print(\"Z-scores:\",z_scores)"
      ],
      "metadata": {
        "colab": {
          "base_uri": "https://localhost:8080/"
        },
        "id": "vDHOF5pBw82a",
        "outputId": "557bf5a7-072e-4a66-93f9-dd063a1c19a8"
      },
      "execution_count": 24,
      "outputs": [
        {
          "output_type": "stream",
          "name": "stdout",
          "text": [
            "Original Data: [10, 20, 30, 40, 50]\n",
            "Z-scores: [np.float64(-1.414213562373095), np.float64(-0.7071067811865475), np.float64(0.0), np.float64(0.7071067811865475), np.float64(1.414213562373095)]\n"
          ]
        }
      ]
    },
    {
      "cell_type": "code",
      "source": [
        "# 19. Compare two datasets using their standard deviations.\n",
        "import numpy as np\n",
        "\n",
        "data1 = [5, 10, 15, 20]\n",
        "data2 = [5, 25, 45, 65]\n",
        "\n",
        "std1 = np.std(data1)\n",
        "std2 = np.std(data2)\n",
        "\n",
        "print(\"Standard Deviation of Data1:\", std1)\n",
        "print(\"Standard Deviation of Data2:\", std2)\n",
        "\n",
        "# Interpretation: Higher std = more spread out"
      ],
      "metadata": {
        "colab": {
          "base_uri": "https://localhost:8080/"
        },
        "id": "2-diNTrBw_nY",
        "outputId": "6ee47865-8923-404b-9e51-3282591de1c8"
      },
      "execution_count": 25,
      "outputs": [
        {
          "output_type": "stream",
          "name": "stdout",
          "text": [
            "Standard Deviation of Data1: 5.5901699437494745\n",
            "Standard Deviation of Data2: 22.360679774997898\n"
          ]
        }
      ]
    },
    {
      "cell_type": "code",
      "source": [
        "# 20. Write a Python program to visualize covariance using a heatmap.\n",
        "import seaborn as sns\n",
        "import pandas as pd\n",
        "import numpy as np\n",
        "import matplotlib.pyplot as plt\n",
        "\n",
        "df = pd.DataFrame({\n",
        "    'X': np.random.randint(1, 100, 30),\n",
        "    'Y': np.random.randint(50, 150, 30)\n",
        "})\n",
        "\n",
        "cov_matrix = df.cov()\n",
        "sns.heatmap(cov_matrix, annot=True, cmap=\"YlGnBu\")\n",
        "plt.title(\"Covariance Heatmap\")\n",
        "plt.show()"
      ],
      "metadata": {
        "colab": {
          "base_uri": "https://localhost:8080/",
          "height": 452
        },
        "id": "ZW3zr-cgxB1j",
        "outputId": "7629d2c7-34b0-4103-f4c8-4564fa8e7021"
      },
      "execution_count": 26,
      "outputs": [
        {
          "output_type": "display_data",
          "data": {
            "text/plain": [
              "<Figure size 640x480 with 2 Axes>"
            ],
            "image/png": "[encoded data removed]"
          },
          "metadata": {}
        }
      ]
    },
    {
      "cell_type": "code",
      "source": [
        "# 21. Use seaborn to create a correlation matrix for a dataset.\n",
        "import seaborn as sns\n",
        "import pandas as pd\n",
        "import numpy as np\n",
        "import matplotlib.pyplot as plt\n",
        "\n",
        "df = pd.DataFrame({\n",
        "    'Math': np.random.randint(60, 100, 20),\n",
        "    'Physics': np.random.randint(50, 90, 20),\n",
        "    'Chemistry': np.random.randint(40, 80, 20)\n",
        "})\n",
        "\n",
        "corr_matrix = df.corr()\n",
        "sns.heatmap(corr_matrix, annot=True, cmap=\"coolwarm\")\n",
        "plt.title(\"Correlation Matrix\")\n",
        "plt.show()"
      ],
      "metadata": {
        "colab": {
          "base_uri": "https://localhost:8080/",
          "height": 452
        },
        "id": "mpDSlFKXxEK1",
        "outputId": "0eec9c49-112c-4dea-ae0d-c3627b0b988a"
      },
      "execution_count": 27,
      "outputs": [
        {
          "output_type": "display_data",
          "data": {
            "text/plain": [
              "<Figure size 640x480 with 2 Axes>"
            ],
            "image/png": "[encoded data removed]"
          },
          "metadata": {}
        }
      ]
    },
    {
      "cell_type": "code",
      "source": [
        "# 22. Generate a dataset and implement both variance and standard deviation computations.\n",
        "import numpy as np\n",
        "\n",
        "data = np.random.randint(10, 50, 15)\n",
        "variance = np.var(data)\n",
        "std_dev = np.std(data)\n",
        "\n",
        "print(\"Data:\", data)\n",
        "print(\"Variance:\", variance)\n",
        "print(\"Standard Deviation:\",std_dev)"
      ],
      "metadata": {
        "colab": {
          "base_uri": "https://localhost:8080/"
        },
        "id": "7YC1VGghxGbH",
        "outputId": "2b39987c-b020-45c8-86ea-0166643252b2"
      },
      "execution_count": 29,
      "outputs": [
        {
          "output_type": "stream",
          "name": "stdout",
          "text": [
            "Data: [14 28 17 30 10 13 42 37 21 33 19 34 31 47 12]\n",
            "Variance: 126.38222222222221\n",
            "Standard Deviation: 11.241984799056713\n"
          ]
        }
      ]
    },
    {
      "cell_type": "code",
      "source": [
        "# 23. Visualize skewness and kurtosis using Python libraries like matplotlib or seaborn.\n",
        "import seaborn as sns\n",
        "import matplotlib.pyplot as plt\n",
        "import pandas as pd\n",
        "from scipy.stats import skew, kurtosis\n",
        "\n",
        "data = np.random.normal(loc=50, scale=15, size=100)\n",
        "df = pd.DataFrame({'Scores': data})\n",
        "\n",
        "sns.histplot(df['Scores'], kde=True)\n",
        "plt.title(f\"Skewness: {skew(data):.2f}, Kurtosis: {kurtosis(data):.2f}\")\n",
        "plt.show()"
      ],
      "metadata": {
        "colab": {
          "base_uri": "https://localhost:8080/",
          "height": 472
        },
        "id": "BLmVahDWxKKI",
        "outputId": "08004b34-124a-4790-866b-1f090ed82b47"
      },
      "execution_count": 30,
      "outputs": [
        {
          "output_type": "display_data",
          "data": {
            "text/plain": [
              "<Figure size 640x480 with 1 Axes>"
            ],
            "image/png": "[encoded data removed]"
          },
          "metadata": {}
        }
      ]
    },
    {
      "cell_type": "code",
      "source": [
        "# 24. Implement the Pearson and Spearman correlation coefficients for a dataset.\n",
        "from scipy.stats import pearsonr, spearmanr\n",
        "\n",
        "x = [10, 20, 30, 40, 50]\n",
        "y = [15, 25, 35, 45, 55]\n",
        "\n",
        "pearson_corr, _ = pearsonr(x, y)\n",
        "spearman_corr, _ = spearmanr(x, y)\n",
        "\n",
        "print(\"Pearson Correlation Coefficient:\", pearson_corr)\n",
        "print(\"Spearman Correlation Coefficient:\",spearman_corr)"
      ],
      "metadata": {
        "colab": {
          "base_uri": "https://localhost:8080/"
        },
        "id": "dF2hyi8txMWS",
        "outputId": "bb1bb229-010e-4ca5-d213-a546a39007ad"
      },
      "execution_count": 32,
      "outputs": [
        {
          "output_type": "stream",
          "name": "stdout",
          "text": [
            "Pearson Correlation Coefficient: 0.9999999999999998\n",
            "Spearman Correlation Coefficient: 0.9999999999999999\n"
          ]
        }
      ]
    },
    {
      "cell_type": "code",
      "source": [],
      "metadata": {
        "id": "K6RPkAqMxP77"
      },
      "execution_count": null,
      "outputs": []
    }
  ]
}